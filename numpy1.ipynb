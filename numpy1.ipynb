{
 "cells": [
  {
   "cell_type": "code",
   "execution_count": 1,
   "id": "a6ee6d0e-d1a2-4254-90c7-15375a7c2ccc",
   "metadata": {},
   "outputs": [
    {
     "name": "stdout",
     "output_type": "stream",
     "text": [
      "hi\n",
      "hi\n",
      "hi\n",
      "hi\n",
      "hi\n"
     ]
    }
   ],
   "source": [
    "seq=[1,2,3,4,5]\n",
    "for item in seq:\n",
    "    print(\"hi\")"
   ]
  },
  {
   "cell_type": "code",
   "execution_count": 10,
   "id": "0c056996-8331-437b-9578-081339a192d9",
   "metadata": {},
   "outputs": [],
   "source": [
    "seq=[1,2,3,4,5]\n"
   ]
  },
  {
   "cell_type": "code",
   "execution_count": 12,
   "id": "eeb0e86e-b102-4d04-b26f-e772b106c63e",
   "metadata": {},
   "outputs": [
    {
     "name": "stdout",
     "output_type": "stream",
     "text": [
      "2\n",
      "4\n",
      "6\n",
      "8\n",
      "10\n"
     ]
    }
   ],
   "source": [
    "for element in seq:\n",
    "    print (element+element)"
   ]
  },
  {
   "cell_type": "code",
   "execution_count": 13,
   "id": "07d2d8bb-6ca9-45f6-be60-4fdecf4dfedb",
   "metadata": {},
   "outputs": [],
   "source": [
    "x=[1,2,3,4,5]"
   ]
  },
  {
   "cell_type": "code",
   "execution_count": 16,
   "id": "64fefa4b-28b3-451a-a8df-28d12fa3c416",
   "metadata": {},
   "outputs": [
    {
     "name": "stdout",
     "output_type": "stream",
     "text": [
      "[1, 4, 9, 16, 25]\n"
     ]
    }
   ],
   "source": [
    "out=[]\n",
    "for num in x:\n",
    "    out.append(num**2)\n",
    "print(out)"
   ]
  },
  {
   "cell_type": "code",
   "execution_count": 21,
   "id": "8db885ed-3251-4dbb-955e-8626e45ff590",
   "metadata": {},
   "outputs": [
    {
     "data": {
      "text/plain": [
       "[1, 4, 9, 16, 25]"
      ]
     },
     "execution_count": 21,
     "metadata": {},
     "output_type": "execute_result"
    }
   ],
   "source": [
    "[num**2 for num in x]"
   ]
  },
  {
   "cell_type": "code",
   "execution_count": 22,
   "id": "0b71a256-80e2-4f83-9a8e-257eec1e9eab",
   "metadata": {},
   "outputs": [
    {
     "data": {
      "text/plain": [
       "[1, 4, 9, 16, 25]"
      ]
     },
     "execution_count": 22,
     "metadata": {},
     "output_type": "execute_result"
    }
   ],
   "source": [
    "[ num**2 for num in x]"
   ]
  },
  {
   "cell_type": "code",
   "execution_count": 23,
   "id": "fa69d472-d23c-4dbe-a2f5-dfa05f7c14a6",
   "metadata": {},
   "outputs": [],
   "source": [
    "tweet=\"hello, #style\""
   ]
  },
  {
   "cell_type": "code",
   "execution_count": 24,
   "id": "110b7bde-812c-443f-85b6-16b1ec79de4e",
   "metadata": {},
   "outputs": [
    {
     "data": {
      "text/plain": [
       "['hello, ', 'style']"
      ]
     },
     "execution_count": 24,
     "metadata": {},
     "output_type": "execute_result"
    }
   ],
   "source": [
    "tweet.split('#')"
   ]
  },
  {
   "cell_type": "code",
   "execution_count": 25,
   "id": "97c182ff-aa3c-4503-a855-7354e5704f4c",
   "metadata": {},
   "outputs": [
    {
     "data": {
      "text/plain": [
       "'style'"
      ]
     },
     "execution_count": 25,
     "metadata": {},
     "output_type": "execute_result"
    }
   ],
   "source": [
    "tweet.split('#') [-1]"
   ]
  },
  {
   "cell_type": "code",
   "execution_count": 1,
   "id": "bc1981e9-3361-4686-92a9-68fdb08e80c6",
   "metadata": {},
   "outputs": [],
   "source": [
    "#to remove item from list we use .pop\n"
   ]
  },
  {
   "cell_type": "code",
   "execution_count": 2,
   "id": "6ba5b1ee-5da6-4a34-ad05-5619ca63941f",
   "metadata": {},
   "outputs": [
    {
     "name": "stdout",
     "output_type": "stream",
     "text": [
      "Defaulting to user installation because normal site-packages is not writeable\n",
      "Looking in links: /usr/share/pip-wheels\n",
      "Requirement already satisfied: numpy in /opt/conda/envs/anaconda-panel-2023.05-py310/lib/python3.11/site-packages (1.24.3)\n"
     ]
    }
   ],
   "source": [
    "!pip install numpy"
   ]
  },
  {
   "cell_type": "code",
   "execution_count": 4,
   "id": "38651cbc-a749-4187-ab7f-3388f55fe4d6",
   "metadata": {},
   "outputs": [],
   "source": [
    "import numpy as np"
   ]
  },
  {
   "cell_type": "code",
   "execution_count": 4,
   "id": "e6e1dbb9-72fe-410f-b9b4-13a97cdb9b81",
   "metadata": {},
   "outputs": [
    {
     "ename": "AttributeError",
     "evalue": "module 'numpy' has no attribute 'arrange'",
     "output_type": "error",
     "traceback": [
      "\u001b[0;31m---------------------------------------------------------------------------\u001b[0m",
      "\u001b[0;31mAttributeError\u001b[0m                            Traceback (most recent call last)",
      "Cell \u001b[0;32mIn[4], line 1\u001b[0m\n\u001b[0;32m----> 1\u001b[0m np\u001b[38;5;241m.\u001b[39marrange(\u001b[38;5;241m0\u001b[39m,\u001b[38;5;241m10\u001b[39m)\n",
      "File \u001b[0;32m/opt/conda/envs/anaconda-panel-2023.05-py310/lib/python3.11/site-packages/numpy/__init__.py:320\u001b[0m, in \u001b[0;36m__getattr__\u001b[0;34m(attr)\u001b[0m\n\u001b[1;32m    317\u001b[0m     \u001b[38;5;28;01mfrom\u001b[39;00m \u001b[38;5;21;01m.\u001b[39;00m\u001b[38;5;21;01mtesting\u001b[39;00m \u001b[38;5;28;01mimport\u001b[39;00m Tester\n\u001b[1;32m    318\u001b[0m     \u001b[38;5;28;01mreturn\u001b[39;00m Tester\n\u001b[0;32m--> 320\u001b[0m \u001b[38;5;28;01mraise\u001b[39;00m \u001b[38;5;167;01mAttributeError\u001b[39;00m(\u001b[38;5;124m\"\u001b[39m\u001b[38;5;124mmodule \u001b[39m\u001b[38;5;132;01m{!r}\u001b[39;00m\u001b[38;5;124m has no attribute \u001b[39m\u001b[38;5;124m\"\u001b[39m\n\u001b[1;32m    321\u001b[0m                      \u001b[38;5;124m\"\u001b[39m\u001b[38;5;132;01m{!r}\u001b[39;00m\u001b[38;5;124m\"\u001b[39m\u001b[38;5;241m.\u001b[39mformat(\u001b[38;5;18m__name__\u001b[39m, attr))\n",
      "\u001b[0;31mAttributeError\u001b[0m: module 'numpy' has no attribute 'arrange'"
     ]
    }
   ],
   "source": [
    "np.arrange(0,10)"
   ]
  },
  {
   "cell_type": "code",
   "execution_count": 8,
   "id": "44817f83-eed1-4605-b9e8-d660bdffc682",
   "metadata": {},
   "outputs": [],
   "source": [
    "arr=np.array([[1,2,3],[2,3,4]])"
   ]
  },
  {
   "cell_type": "code",
   "execution_count": 9,
   "id": "2c8d883f-071a-4475-ae82-938c4c5f8abf",
   "metadata": {},
   "outputs": [
    {
     "data": {
      "text/plain": [
       "array([[1, 2, 3],\n",
       "       [2, 3, 4]])"
      ]
     },
     "execution_count": 9,
     "metadata": {},
     "output_type": "execute_result"
    }
   ],
   "source": [
    "arr"
   ]
  },
  {
   "cell_type": "code",
   "execution_count": 12,
   "id": "a6155f06-4388-4bc6-bc54-f50883313dc7",
   "metadata": {},
   "outputs": [
    {
     "data": {
      "text/plain": [
       "array([0, 2, 4, 6, 8])"
      ]
     },
     "execution_count": 12,
     "metadata": {},
     "output_type": "execute_result"
    }
   ],
   "source": [
    "np.arange(0,10,2)"
   ]
  },
  {
   "cell_type": "code",
   "execution_count": 14,
   "id": "b7764dab-01c4-419a-870b-ee078de95de3",
   "metadata": {},
   "outputs": [
    {
     "data": {
      "text/plain": [
       "array([[0., 0., 0., 0., 0.],\n",
       "       [0., 0., 0., 0., 0.],\n",
       "       [0., 0., 0., 0., 0.],\n",
       "       [0., 0., 0., 0., 0.],\n",
       "       [0., 0., 0., 0., 0.]])"
      ]
     },
     "execution_count": 14,
     "metadata": {},
     "output_type": "execute_result"
    }
   ],
   "source": [
    "np.zeros((5,5))"
   ]
  },
  {
   "cell_type": "code",
   "execution_count": 15,
   "id": "7dfd3f2f-a03a-4613-a9c0-92d7c6d187ff",
   "metadata": {},
   "outputs": [
    {
     "data": {
      "text/plain": [
       "array([ 0.,  5., 10.])"
      ]
     },
     "execution_count": 15,
     "metadata": {},
     "output_type": "execute_result"
    }
   ],
   "source": [
    "np.linspace(0,10,3)"
   ]
  },
  {
   "cell_type": "code",
   "execution_count": 16,
   "id": "ea4685f1-4349-441a-9f14-2e9dfa739924",
   "metadata": {},
   "outputs": [],
   "source": [
    "#what this linspace function does is it evenly distribute the number between the two numbers"
   ]
  },
  {
   "cell_type": "code",
   "execution_count": 17,
   "id": "4eb237b7-e7c2-4560-8fdc-aa071440e112",
   "metadata": {},
   "outputs": [
    {
     "data": {
      "text/plain": [
       "array([[1., 0., 0.],\n",
       "       [0., 1., 0.],\n",
       "       [0., 0., 1.]])"
      ]
     },
     "execution_count": 17,
     "metadata": {},
     "output_type": "execute_result"
    }
   ],
   "source": [
    "np.eye(3)"
   ]
  },
  {
   "cell_type": "code",
   "execution_count": 18,
   "id": "cddc3346-568b-48c4-99bd-094d6f48ebaf",
   "metadata": {},
   "outputs": [],
   "source": [
    "#np.eye is to get identity matrix"
   ]
  },
  {
   "cell_type": "code",
   "execution_count": 19,
   "id": "3bcd0071-a6bb-4687-ad9d-19e5261addfd",
   "metadata": {},
   "outputs": [
    {
     "data": {
      "text/plain": [
       "array([0.77815755])"
      ]
     },
     "execution_count": 19,
     "metadata": {},
     "output_type": "execute_result"
    }
   ],
   "source": [
    "np.random.rand(1)"
   ]
  },
  {
   "cell_type": "code",
   "execution_count": 23,
   "id": "8f269345-a24b-4502-bdf0-1780cd2c023c",
   "metadata": {},
   "outputs": [
    {
     "ename": "NameError",
     "evalue": "name 'rand' is not defined",
     "output_type": "error",
     "traceback": [
      "\u001b[0;31m---------------------------------------------------------------------------\u001b[0m",
      "\u001b[0;31mNameError\u001b[0m                                 Traceback (most recent call last)",
      "Cell \u001b[0;32mIn[23], line 1\u001b[0m\n\u001b[0;32m----> 1\u001b[0m help(rand)\n",
      "\u001b[0;31mNameError\u001b[0m: name 'rand' is not defined"
     ]
    }
   ],
   "source": [
    "help(np.random.rand)"
   ]
  },
  {
   "cell_type": "raw",
   "id": "e8001488-8d2a-4b05-ac7d-f5c1928768b2",
   "metadata": {},
   "source": [
    "np.random.randn(5)"
   ]
  },
  {
   "cell_type": "code",
   "execution_count": 5,
   "id": "f736be30-43a0-4974-aa69-e340a7bd9284",
   "metadata": {},
   "outputs": [
    {
     "data": {
      "text/plain": [
       "array([ 0.25733715,  2.26648874,  0.29432896, -0.4774208 ,  0.48006109,\n",
       "       -1.01767197, -0.06241611, -0.54032774,  1.02870117])"
      ]
     },
     "execution_count": 5,
     "metadata": {},
     "output_type": "execute_result"
    }
   ],
   "source": [
    "np.random.randn(9)"
   ]
  },
  {
   "cell_type": "code",
   "execution_count": 6,
   "id": "7e90d7a5-81e2-4457-8844-2ba51fc624ad",
   "metadata": {},
   "outputs": [
    {
     "ename": "ModuleNotFoundError",
     "evalue": "No module named 'np'",
     "output_type": "error",
     "traceback": [
      "\u001b[0;31m---------------------------------------------------------------------------\u001b[0m",
      "\u001b[0;31mModuleNotFoundError\u001b[0m                       Traceback (most recent call last)",
      "Cell \u001b[0;32mIn[6], line 1\u001b[0m\n\u001b[0;32m----> 1\u001b[0m \u001b[38;5;28;01mimport\u001b[39;00m \u001b[38;5;21;01mnp\u001b[39;00m \u001b[38;5;28;01mas\u001b[39;00m \u001b[38;5;21;01mnumpy\u001b[39;00m\n",
      "\u001b[0;31mModuleNotFoundError\u001b[0m: No module named 'np'"
     ]
    }
   ],
   "source": [
    "import np as numpy"
   ]
  },
  {
   "cell_type": "code",
   "execution_count": 7,
   "id": "33cd6a1a-4200-4d22-b3d4-993797f52232",
   "metadata": {},
   "outputs": [
    {
     "name": "stdout",
     "output_type": "stream",
     "text": [
      "Defaulting to user installation because normal site-packages is not writeable\n",
      "Looking in links: /usr/share/pip-wheels\n",
      "Requirement already satisfied: numpy in /opt/conda/envs/anaconda-panel-2023.05-py310/lib/python3.11/site-packages (1.24.3)\n"
     ]
    }
   ],
   "source": [
    "!pip install numpy"
   ]
  },
  {
   "cell_type": "code",
   "execution_count": 8,
   "id": "c9f5eb6c-352d-407b-9dd7-a8cfdfcaee0f",
   "metadata": {},
   "outputs": [
    {
     "ename": "ModuleNotFoundError",
     "evalue": "No module named 'np'",
     "output_type": "error",
     "traceback": [
      "\u001b[0;31m---------------------------------------------------------------------------\u001b[0m",
      "\u001b[0;31mModuleNotFoundError\u001b[0m                       Traceback (most recent call last)",
      "Cell \u001b[0;32mIn[8], line 1\u001b[0m\n\u001b[0;32m----> 1\u001b[0m \u001b[38;5;28;01mimport\u001b[39;00m \u001b[38;5;21;01mnp\u001b[39;00m \u001b[38;5;28;01mas\u001b[39;00m \u001b[38;5;21;01mnumpy\u001b[39;00m\n",
      "\u001b[0;31mModuleNotFoundError\u001b[0m: No module named 'np'"
     ]
    }
   ],
   "source": [
    "import np as numpy"
   ]
  },
  {
   "cell_type": "code",
   "execution_count": 9,
   "id": "d12403f9-54aa-4387-add4-a562e77a8db1",
   "metadata": {},
   "outputs": [],
   "source": [
    "import numpy as np"
   ]
  },
  {
   "cell_type": "code",
   "execution_count": 10,
   "id": "ed2c64a1-145a-4269-90bd-852a55ffb499",
   "metadata": {},
   "outputs": [
    {
     "name": "stdout",
     "output_type": "stream",
     "text": [
      "Help on built-in function randn:\n",
      "\n",
      "randn(...) method of numpy.random.mtrand.RandomState instance\n",
      "    randn(d0, d1, ..., dn)\n",
      "    \n",
      "    Return a sample (or samples) from the \"standard normal\" distribution.\n",
      "    \n",
      "    .. note::\n",
      "        This is a convenience function for users porting code from Matlab,\n",
      "        and wraps `standard_normal`. That function takes a\n",
      "        tuple to specify the size of the output, which is consistent with\n",
      "        other NumPy functions like `numpy.zeros` and `numpy.ones`.\n",
      "    \n",
      "    .. note::\n",
      "        New code should use the\n",
      "        `~numpy.random.Generator.standard_normal`\n",
      "        method of a `~numpy.random.Generator` instance instead;\n",
      "        please see the :ref:`random-quick-start`.\n",
      "    \n",
      "    If positive int_like arguments are provided, `randn` generates an array\n",
      "    of shape ``(d0, d1, ..., dn)``, filled\n",
      "    with random floats sampled from a univariate \"normal\" (Gaussian)\n",
      "    distribution of mean 0 and variance 1. A single float randomly sampled\n",
      "    from the distribution is returned if no argument is provided.\n",
      "    \n",
      "    Parameters\n",
      "    ----------\n",
      "    d0, d1, ..., dn : int, optional\n",
      "        The dimensions of the returned array, must be non-negative.\n",
      "        If no argument is given a single Python float is returned.\n",
      "    \n",
      "    Returns\n",
      "    -------\n",
      "    Z : ndarray or float\n",
      "        A ``(d0, d1, ..., dn)``-shaped array of floating-point samples from\n",
      "        the standard normal distribution, or a single such float if\n",
      "        no parameters were supplied.\n",
      "    \n",
      "    See Also\n",
      "    --------\n",
      "    standard_normal : Similar, but takes a tuple as its argument.\n",
      "    normal : Also accepts mu and sigma arguments.\n",
      "    random.Generator.standard_normal: which should be used for new code.\n",
      "    \n",
      "    Notes\n",
      "    -----\n",
      "    For random samples from the normal distribution with mean ``mu`` and\n",
      "    standard deviation ``sigma``, use::\n",
      "    \n",
      "        sigma * np.random.randn(...) + mu\n",
      "    \n",
      "    Examples\n",
      "    --------\n",
      "    >>> np.random.randn()\n",
      "    2.1923875335537315  # random\n",
      "    \n",
      "    Two-by-four array of samples from the normal distribution with\n",
      "    mean 3 and standard deviation 2.5:\n",
      "    \n",
      "    >>> 3 + 2.5 * np.random.randn(2, 4)\n",
      "    array([[-4.49401501,  4.00950034, -1.81814867,  7.29718677],   # random\n",
      "           [ 0.39924804,  4.68456316,  4.99394529,  4.84057254]])  # random\n",
      "\n"
     ]
    }
   ],
   "source": [
    "help(np.random.randn)"
   ]
  },
  {
   "cell_type": "code",
   "execution_count": 11,
   "id": "5de066a1-feca-4a25-a0d0-950b05710eb9",
   "metadata": {},
   "outputs": [
    {
     "data": {
      "text/plain": [
       "array([0.49460165, 0.2280831 , 0.25547392, 0.39632991, 0.3773151 ,\n",
       "       0.99657423, 0.4081972 , 0.77189399, 0.76053669])"
      ]
     },
     "execution_count": 11,
     "metadata": {},
     "output_type": "execute_result"
    }
   ],
   "source": [
    "np.random.seed(50)\n",
    "np.random.rand(9)"
   ]
  },
  {
   "cell_type": "code",
   "execution_count": 12,
   "id": "7b961431-325f-4e4f-ba5d-55676708807c",
   "metadata": {},
   "outputs": [],
   "source": [
    "#this seed function generally use to restrict the change of a random  no like if use only np.random.rand(9)we will get all the time random numbers\n"
   ]
  },
  {
   "cell_type": "code",
   "execution_count": null,
   "id": "9e7a5765-5685-48f0-b567-74258e522b52",
   "metadata": {},
   "outputs": [],
   "source": [
    "import urllib.request"
   ]
  },
  {
   "cell_type": "code",
   "execution_count": 13,
   "id": "ba43a013-569e-46ac-a874-ee786232a884",
   "metadata": {},
   "outputs": [
    {
     "ename": "SyntaxError",
     "evalue": "invalid syntax (586507809.py, line 1)",
     "output_type": "error",
     "traceback": [
      "\u001b[0;36m  Cell \u001b[0;32mIn[13], line 1\u001b[0;36m\u001b[0m\n\u001b[0;31m    urllib.request.urlretrieve(https://x.com)\u001b[0m\n\u001b[0m                                    ^\u001b[0m\n\u001b[0;31mSyntaxError\u001b[0m\u001b[0;31m:\u001b[0m invalid syntax\n"
     ]
    }
   ],
   "source": [
    "urllib.request.urlretrieve(https://x.com)"
   ]
  },
  {
   "cell_type": "code",
   "execution_count": 15,
   "id": "300e67b5-fbf2-450d-9782-6ce5050a0131",
   "metadata": {},
   "outputs": [
    {
     "ename": "NameError",
     "evalue": "name 'delimiter' is not defined",
     "output_type": "error",
     "traceback": [
      "\u001b[0;31m---------------------------------------------------------------------------\u001b[0m",
      "\u001b[0;31mNameError\u001b[0m                                 Traceback (most recent call last)",
      "Cell \u001b[0;32mIn[15], line 1\u001b[0m\n\u001b[0;32m----> 1\u001b[0m help(delimiter)\n",
      "\u001b[0;31mNameError\u001b[0m: name 'delimiter' is not defined"
     ]
    }
   ],
   "source": [
    "help(delimiter)"
   ]
  },
  {
   "cell_type": "code",
   "execution_count": 16,
   "id": "9bb79610-5139-4957-9dc3-33993653ff91",
   "metadata": {},
   "outputs": [
    {
     "ename": "AttributeError",
     "evalue": "module 'numpy' has no attribute 'delimiter'",
     "output_type": "error",
     "traceback": [
      "\u001b[0;31m---------------------------------------------------------------------------\u001b[0m",
      "\u001b[0;31mAttributeError\u001b[0m                            Traceback (most recent call last)",
      "Cell \u001b[0;32mIn[16], line 1\u001b[0m\n\u001b[0;32m----> 1\u001b[0m help(np\u001b[38;5;241m.\u001b[39mdelimiter)\n",
      "File \u001b[0;32m/opt/conda/envs/anaconda-panel-2023.05-py310/lib/python3.11/site-packages/numpy/__init__.py:320\u001b[0m, in \u001b[0;36m__getattr__\u001b[0;34m(attr)\u001b[0m\n\u001b[1;32m    317\u001b[0m     \u001b[38;5;28;01mfrom\u001b[39;00m \u001b[38;5;21;01m.\u001b[39;00m\u001b[38;5;21;01mtesting\u001b[39;00m \u001b[38;5;28;01mimport\u001b[39;00m Tester\n\u001b[1;32m    318\u001b[0m     \u001b[38;5;28;01mreturn\u001b[39;00m Tester\n\u001b[0;32m--> 320\u001b[0m \u001b[38;5;28;01mraise\u001b[39;00m \u001b[38;5;167;01mAttributeError\u001b[39;00m(\u001b[38;5;124m\"\u001b[39m\u001b[38;5;124mmodule \u001b[39m\u001b[38;5;132;01m{!r}\u001b[39;00m\u001b[38;5;124m has no attribute \u001b[39m\u001b[38;5;124m\"\u001b[39m\n\u001b[1;32m    321\u001b[0m                      \u001b[38;5;124m\"\u001b[39m\u001b[38;5;132;01m{!r}\u001b[39;00m\u001b[38;5;124m\"\u001b[39m\u001b[38;5;241m.\u001b[39mformat(\u001b[38;5;18m__name__\u001b[39m, attr))\n",
      "\u001b[0;31mAttributeError\u001b[0m: module 'numpy' has no attribute 'delimiter'"
     ]
    }
   ],
   "source": [
    "help(np.delimiter)"
   ]
  },
  {
   "cell_type": "code",
   "execution_count": 19,
   "id": "b958cf2c-23af-4a76-81eb-64605dd484ac",
   "metadata": {},
   "outputs": [],
   "source": [
    "myarray = np.array([0,102])"
   ]
  },
  {
   "cell_type": "code",
   "execution_count": 18,
   "id": "6ac4cfed-dbc3-425f-b903-0485a7ef761c",
   "metadata": {},
   "outputs": [
    {
     "ename": "TypeError",
     "evalue": "linspace() missing 1 required positional argument: 'stop'",
     "output_type": "error",
     "traceback": [
      "\u001b[0;31m---------------------------------------------------------------------------\u001b[0m",
      "\u001b[0;31mTypeError\u001b[0m                                 Traceback (most recent call last)",
      "Cell \u001b[0;32mIn[18], line 1\u001b[0m\n\u001b[0;32m----> 1\u001b[0m myarray\u001b[38;5;241m=\u001b[39mnp\u001b[38;5;241m.\u001b[39mlinspace([\u001b[38;5;241m0\u001b[39m,\u001b[38;5;241m10\u001b[39m])\n",
      "File \u001b[0;32m<__array_function__ internals>:198\u001b[0m, in \u001b[0;36mlinspace\u001b[0;34m(*args, **kwargs)\u001b[0m\n",
      "\u001b[0;31mTypeError\u001b[0m: linspace() missing 1 required positional argument: 'stop'"
     ]
    }
   ],
   "source": [
    "myarray=np.linspace([0,10])"
   ]
  },
  {
   "cell_type": "code",
   "execution_count": 20,
   "id": "8342b02e-0417-46f2-8cd3-eb64676ab1d8",
   "metadata": {},
   "outputs": [],
   "source": [
    "myarray = np.array([0,102])"
   ]
  },
  {
   "cell_type": "code",
   "execution_count": 21,
   "id": "8290f85a-2bff-4a21-b5ec-f050de714060",
   "metadata": {},
   "outputs": [
    {
     "data": {
      "text/plain": [
       "array([  0, 102])"
      ]
     },
     "execution_count": 21,
     "metadata": {},
     "output_type": "execute_result"
    }
   ],
   "source": [
    "myarray"
   ]
  },
  {
   "cell_type": "code",
   "execution_count": 22,
   "id": "6639c027-d0be-4bd5-9726-029fd91d88a9",
   "metadata": {},
   "outputs": [
    {
     "ename": "TypeError",
     "evalue": "linspace() missing 1 required positional argument: 'stop'",
     "output_type": "error",
     "traceback": [
      "\u001b[0;31m---------------------------------------------------------------------------\u001b[0m",
      "\u001b[0;31mTypeError\u001b[0m                                 Traceback (most recent call last)",
      "Cell \u001b[0;32mIn[22], line 1\u001b[0m\n\u001b[0;32m----> 1\u001b[0m myarray \u001b[38;5;241m=\u001b[39m np\u001b[38;5;241m.\u001b[39mlinspace([\u001b[38;5;241m0\u001b[39m,\u001b[38;5;241m102\u001b[39m])\n",
      "File \u001b[0;32m<__array_function__ internals>:198\u001b[0m, in \u001b[0;36mlinspace\u001b[0;34m(*args, **kwargs)\u001b[0m\n",
      "\u001b[0;31mTypeError\u001b[0m: linspace() missing 1 required positional argument: 'stop'"
     ]
    }
   ],
   "source": [
    "myarray = np.linspace([0,102])"
   ]
  },
  {
   "cell_type": "code",
   "execution_count": 23,
   "id": "5a021e26-6891-4422-9a11-620d75f52144",
   "metadata": {},
   "outputs": [],
   "source": [
    "myarray = np.array([0,102])\n",
    "myarray=np.linspace(0,10)"
   ]
  },
  {
   "cell_type": "code",
   "execution_count": 24,
   "id": "05b7c7c7-6a31-4a1f-80ed-64827544f749",
   "metadata": {},
   "outputs": [],
   "source": [
    "# TASK: Create a numpy array called myarray which consists of 101 evenly linearly spaced points between 0 and 10."
   ]
  },
  {
   "cell_type": "code",
   "execution_count": 25,
   "id": "0360d0c9-cd21-4d9b-9679-bb6b2bbcb535",
   "metadata": {},
   "outputs": [],
   "source": [
    "myarray=np.array([0,102])"
   ]
  },
  {
   "cell_type": "code",
   "execution_count": 26,
   "id": "524b17ee-3c1c-4202-bbfe-a9f788feb136",
   "metadata": {},
   "outputs": [
    {
     "data": {
      "text/plain": [
       "array([  0, 102])"
      ]
     },
     "execution_count": 26,
     "metadata": {},
     "output_type": "execute_result"
    }
   ],
   "source": [
    "myarray"
   ]
  },
  {
   "cell_type": "code",
   "execution_count": 27,
   "id": "2c6e9bcf-499f-4102-912b-e88739b4df80",
   "metadata": {},
   "outputs": [],
   "source": [
    "myarray=np.linspace(0,10)"
   ]
  },
  {
   "cell_type": "code",
   "execution_count": 28,
   "id": "304d5420-f838-47b7-874f-0cf139fbe0e3",
   "metadata": {},
   "outputs": [],
   "source": [
    "myarray=np.linspace(0,10,101)"
   ]
  },
  {
   "cell_type": "code",
   "execution_count": 29,
   "id": "24a15a7c-01d1-4861-9657-f3a56885d6ca",
   "metadata": {},
   "outputs": [
    {
     "data": {
      "text/plain": [
       "array([ 0. ,  0.1,  0.2,  0.3,  0.4,  0.5,  0.6,  0.7,  0.8,  0.9,  1. ,\n",
       "        1.1,  1.2,  1.3,  1.4,  1.5,  1.6,  1.7,  1.8,  1.9,  2. ,  2.1,\n",
       "        2.2,  2.3,  2.4,  2.5,  2.6,  2.7,  2.8,  2.9,  3. ,  3.1,  3.2,\n",
       "        3.3,  3.4,  3.5,  3.6,  3.7,  3.8,  3.9,  4. ,  4.1,  4.2,  4.3,\n",
       "        4.4,  4.5,  4.6,  4.7,  4.8,  4.9,  5. ,  5.1,  5.2,  5.3,  5.4,\n",
       "        5.5,  5.6,  5.7,  5.8,  5.9,  6. ,  6.1,  6.2,  6.3,  6.4,  6.5,\n",
       "        6.6,  6.7,  6.8,  6.9,  7. ,  7.1,  7.2,  7.3,  7.4,  7.5,  7.6,\n",
       "        7.7,  7.8,  7.9,  8. ,  8.1,  8.2,  8.3,  8.4,  8.5,  8.6,  8.7,\n",
       "        8.8,  8.9,  9. ,  9.1,  9.2,  9.3,  9.4,  9.5,  9.6,  9.7,  9.8,\n",
       "        9.9, 10. ])"
      ]
     },
     "execution_count": 29,
     "metadata": {},
     "output_type": "execute_result"
    }
   ],
   "source": [
    "myarray"
   ]
  },
  {
   "cell_type": "code",
   "execution_count": null,
   "id": "09d92f43-07ce-45cd-b5d5-2ca9d862fe4f",
   "metadata": {},
   "outputs": [],
   "source": [
    "#indexing ans slicing in numpy"
   ]
  },
  {
   "cell_type": "raw",
   "id": "ff4353e5-cbfd-422e-bf14-20a06f677970",
   "metadata": {},
   "source": [
    "arr=np.arange(0,10)"
   ]
  },
  {
   "cell_type": "code",
   "execution_count": 35,
   "id": "9e44ec52-d1cf-442c-880b-f4851020fae7",
   "metadata": {},
   "outputs": [],
   "source": [
    "arr=np.arange(0,10)"
   ]
  },
  {
   "cell_type": "code",
   "execution_count": 36,
   "id": "f49e9f33-5c12-482f-a255-95db104b6272",
   "metadata": {},
   "outputs": [
    {
     "data": {
      "text/plain": [
       "array([0, 1, 2, 3, 4, 5, 6, 7, 8, 9])"
      ]
     },
     "execution_count": 36,
     "metadata": {},
     "output_type": "execute_result"
    }
   ],
   "source": [
    "arr"
   ]
  },
  {
   "cell_type": "code",
   "execution_count": 37,
   "id": "26f0bdf4-c6be-4c3f-b436-a00e80f362b4",
   "metadata": {},
   "outputs": [
    {
     "data": {
      "text/plain": [
       "array([0, 1, 2, 3, 4])"
      ]
     },
     "execution_count": 37,
     "metadata": {},
     "output_type": "execute_result"
    }
   ],
   "source": [
    "arr[0:5]"
   ]
  },
  {
   "cell_type": "code",
   "execution_count": 38,
   "id": "8b4d2b65-d6be-4fed-8d28-194c59c7447c",
   "metadata": {},
   "outputs": [
    {
     "data": {
      "text/plain": [
       "array([0, 1, 2])"
      ]
     },
     "execution_count": 38,
     "metadata": {},
     "output_type": "execute_result"
    }
   ],
   "source": [
    "arr[0:3]"
   ]
  },
  {
   "cell_type": "code",
   "execution_count": null,
   "id": "05fe56a4-e2cd-413a-8fbf-c2477d5e0dd9",
   "metadata": {},
   "outputs": [],
   "source": [
    "#brodcasting of a array"
   ]
  },
  {
   "cell_type": "code",
   "execution_count": 40,
   "id": "4ee7ed0b-d88e-4272-a472-5af0820d3152",
   "metadata": {},
   "outputs": [],
   "source": [
    "arr[0:5]=10\n"
   ]
  },
  {
   "cell_type": "code",
   "execution_count": 43,
   "id": "014845d9-5971-4a41-88c3-401c13e3b7bd",
   "metadata": {},
   "outputs": [],
   "source": [
    "arr[0:2]=100"
   ]
  },
  {
   "cell_type": "code",
   "execution_count": 45,
   "id": "f21c175c-f8bb-4301-9462-c58e0887fada",
   "metadata": {},
   "outputs": [],
   "source": [
    "arr_2d=([[2,3,4,5],[12,13,14,15],[11,22,33,44,]])"
   ]
  },
  {
   "cell_type": "code",
   "execution_count": 46,
   "id": "c9fe5f9e-a2e1-4e40-9bed-001465f70974",
   "metadata": {},
   "outputs": [
    {
     "name": "stdout",
     "output_type": "stream",
     "text": [
      "Defaulting to user installation because normal site-packages is not writeable\n",
      "Looking in links: /usr/share/pip-wheels\n",
      "Requirement already satisfied: numpy in /opt/conda/envs/anaconda-panel-2023.05-py310/lib/python3.11/site-packages (1.24.3)\n"
     ]
    }
   ],
   "source": [
    "!pip install numpy"
   ]
  },
  {
   "cell_type": "code",
   "execution_count": 47,
   "id": "b1f627f1-6d6a-41c9-add0-3aa1e89c10ac",
   "metadata": {},
   "outputs": [],
   "source": [
    "arr[0:5]=10\n"
   ]
  },
  {
   "cell_type": "code",
   "execution_count": 48,
   "id": "58a3bdf7-8e77-45d8-89f3-4cdecfa60a75",
   "metadata": {},
   "outputs": [],
   "source": [
    "arr_2d=([[2,3,4,5],[12,13,14,15],[11,22,33,44,]])"
   ]
  },
  {
   "cell_type": "code",
   "execution_count": 49,
   "id": "2a70e991-7e2b-4527-8214-f675d6f47068",
   "metadata": {},
   "outputs": [],
   "source": [
    "import numpy as np"
   ]
  },
  {
   "cell_type": "code",
   "execution_count": 50,
   "id": "8c9a4bf1-8aae-4d5d-b0b5-26017f0fa2c7",
   "metadata": {},
   "outputs": [],
   "source": [
    "arr_2d=([[2,3,4,5],[12,13,14,15],[11,22,33,44,]])"
   ]
  },
  {
   "cell_type": "code",
   "execution_count": 55,
   "id": "3106e308-9dfa-42d3-8e61-903c5724af06",
   "metadata": {},
   "outputs": [
    {
     "data": {
      "text/plain": [
       "[[2, 3, 4, 5], [12, 13, 14, 15], [11, 22, 33, 44]]"
      ]
     },
     "execution_count": 55,
     "metadata": {},
     "output_type": "execute_result"
    }
   ],
   "source": [
    "arr_2d"
   ]
  },
  {
   "cell_type": "code",
   "execution_count": 57,
   "id": "b2aac361-a052-40b1-a395-24e8332ee97a",
   "metadata": {},
   "outputs": [
    {
     "data": {
      "text/plain": [
       "[12, 13, 14, 15]"
      ]
     },
     "execution_count": 57,
     "metadata": {},
     "output_type": "execute_result"
    }
   ],
   "source": [
    "arr_2d[1]"
   ]
  },
  {
   "cell_type": "code",
   "execution_count": 60,
   "id": "23f86bf5-a7c1-43f3-a5b1-b7274987dbd9",
   "metadata": {},
   "outputs": [
    {
     "data": {
      "text/plain": [
       "14"
      ]
     },
     "execution_count": 60,
     "metadata": {},
     "output_type": "execute_result"
    }
   ],
   "source": [
    "arr_2d[1][2]"
   ]
  },
  {
   "cell_type": "code",
   "execution_count": 61,
   "id": "7f9f49d3-d8e3-44fd-89eb-2f13934a1391",
   "metadata": {},
   "outputs": [],
   "source": [
    "#conditional selection "
   ]
  },
  {
   "cell_type": "code",
   "execution_count": 64,
   "id": "bbaa102e-7046-4c05-aa24-f3dc9b56075d",
   "metadata": {},
   "outputs": [],
   "source": [
    "arr_c= np.arange(0,12)"
   ]
  },
  {
   "cell_type": "code",
   "execution_count": 65,
   "id": "1dea192f-212a-4f91-8249-744a540c2e83",
   "metadata": {},
   "outputs": [
    {
     "data": {
      "text/plain": [
       "array([ 0,  1,  2,  3,  4,  5,  6,  7,  8,  9, 10, 11])"
      ]
     },
     "execution_count": 65,
     "metadata": {},
     "output_type": "execute_result"
    }
   ],
   "source": [
    "arr_c"
   ]
  },
  {
   "cell_type": "code",
   "execution_count": 66,
   "id": "08a342a3-394a-492c-95eb-5fb730f2edb1",
   "metadata": {},
   "outputs": [
    {
     "data": {
      "text/plain": [
       "array([False, False, False, False, False, False,  True,  True,  True,\n",
       "        True,  True,  True])"
      ]
     },
     "execution_count": 66,
     "metadata": {},
     "output_type": "execute_result"
    }
   ],
   "source": [
    "arr_c>5"
   ]
  },
  {
   "cell_type": "code",
   "execution_count": 69,
   "id": "7a781b5f-6afa-4cd8-8e40-62dcfa8a5ed5",
   "metadata": {},
   "outputs": [],
   "source": [
    "bool_arr=arr_c>5"
   ]
  },
  {
   "cell_type": "code",
   "execution_count": 70,
   "id": "3fb43e2c-6920-4b5b-9fa0-f2e487114e21",
   "metadata": {},
   "outputs": [
    {
     "data": {
      "text/plain": [
       "array([False, False, False, False, False, False,  True,  True,  True,\n",
       "        True,  True,  True])"
      ]
     },
     "execution_count": 70,
     "metadata": {},
     "output_type": "execute_result"
    }
   ],
   "source": [
    "bool_arr"
   ]
  },
  {
   "cell_type": "code",
   "execution_count": 71,
   "id": "c555b65e-1466-446c-bf0c-2cc035351046",
   "metadata": {},
   "outputs": [
    {
     "data": {
      "text/plain": [
       "array([ 6,  7,  8,  9, 10, 11])"
      ]
     },
     "execution_count": 71,
     "metadata": {},
     "output_type": "execute_result"
    }
   ],
   "source": [
    "arr_c[bool_arr]"
   ]
  },
  {
   "cell_type": "code",
   "execution_count": 72,
   "id": "3bbc623d-d567-4746-939d-43d2afd02e24",
   "metadata": {},
   "outputs": [],
   "source": [
    "#or "
   ]
  },
  {
   "cell_type": "code",
   "execution_count": 73,
   "id": "0bb4dc06-6621-43ff-8165-4540f3ce7c61",
   "metadata": {},
   "outputs": [
    {
     "data": {
      "text/plain": [
       "array([ 6,  7,  8,  9, 10, 11])"
      ]
     },
     "execution_count": 73,
     "metadata": {},
     "output_type": "execute_result"
    }
   ],
   "source": [
    "arr_c[arr_c>5]"
   ]
  },
  {
   "cell_type": "code",
   "execution_count": 74,
   "id": "352c5113-dfa7-4442-af95-332c11a3eba4",
   "metadata": {},
   "outputs": [
    {
     "data": {
      "text/plain": [
       "array([3, 5, 5, 5, 4, 4, 5, 3, 4, 5, 4, 6, 6, 3, 6, 3, 5, 6, 5])"
      ]
     },
     "execution_count": 74,
     "metadata": {},
     "output_type": "execute_result"
    }
   ],
   "source": [
    "dice_rolls = np.array([3, 1, 5, 2, 5, 1, 1, 5, 1, 4, 2, 1, 4, 5, 3, 4, 5, 2, 4, 2, 6, 6, 3, 6, 2, 3, 5, 6, 5])\n",
    "dice_rolls[dice_rolls>2]"
   ]
  },
  {
   "cell_type": "code",
   "execution_count": 75,
   "id": "27b3afb6-e3c9-45dc-815b-1f2043e14967",
   "metadata": {},
   "outputs": [
    {
     "data": {
      "text/plain": [
       "array([ True, False,  True, False,  True, False, False,  True, False,\n",
       "        True, False, False,  True,  True,  True,  True,  True, False,\n",
       "        True, False,  True,  True,  True,  True, False,  True,  True,\n",
       "        True,  True])"
      ]
     },
     "execution_count": 75,
     "metadata": {},
     "output_type": "execute_result"
    }
   ],
   "source": [
    "dice_rolls>2"
   ]
  },
  {
   "cell_type": "code",
   "execution_count": 76,
   "id": "73599894-41eb-42ad-9f70-5cce88063f33",
   "metadata": {},
   "outputs": [
    {
     "data": {
      "text/plain": [
       "29"
      ]
     },
     "execution_count": 76,
     "metadata": {},
     "output_type": "execute_result"
    }
   ],
   "source": [
    "len(dice_rolls>2)"
   ]
  },
  {
   "cell_type": "code",
   "execution_count": 77,
   "id": "01d49635-320a-4039-9652-37b30453efc9",
   "metadata": {},
   "outputs": [],
   "source": [
    "#to know the standard derivatioon we use arr.std()"
   ]
  },
  {
   "cell_type": "code",
   "execution_count": 78,
   "id": "30c11c6d-2c02-4d5b-9ebd-ccb009a41863",
   "metadata": {},
   "outputs": [
    {
     "data": {
      "text/plain": [
       "3.452052529534663"
      ]
     },
     "execution_count": 78,
     "metadata": {},
     "output_type": "execute_result"
    }
   ],
   "source": [
    "arr_c.std()"
   ]
  },
  {
   "cell_type": "code",
   "execution_count": 88,
   "id": "de6fac79-68bb-41ea-ba1f-2110c02322e8",
   "metadata": {},
   "outputs": [],
   "source": [
    "arr_2dd=np.arange(0,25).reshape(5,5)"
   ]
  },
  {
   "cell_type": "code",
   "execution_count": 89,
   "id": "ae494f41-058c-4dec-b230-f0c2b89b9fd3",
   "metadata": {},
   "outputs": [
    {
     "data": {
      "text/plain": [
       "array([[ 0,  1,  2,  3,  4],\n",
       "       [ 5,  6,  7,  8,  9],\n",
       "       [10, 11, 12, 13, 14],\n",
       "       [15, 16, 17, 18, 19],\n",
       "       [20, 21, 22, 23, 24]])"
      ]
     },
     "execution_count": 89,
     "metadata": {},
     "output_type": "execute_result"
    }
   ],
   "source": [
    "arr_2dd"
   ]
  },
  {
   "cell_type": "code",
   "execution_count": 90,
   "id": "30f98a0d-61be-4650-8081-7635da7e3d63",
   "metadata": {},
   "outputs": [
    {
     "data": {
      "text/plain": [
       "300"
      ]
     },
     "execution_count": 90,
     "metadata": {},
     "output_type": "execute_result"
    }
   ],
   "source": [
    "arr_2dd.sum()"
   ]
  },
  {
   "cell_type": "code",
   "execution_count": 91,
   "id": "63d31104-4328-431d-b7d2-918326fb9235",
   "metadata": {},
   "outputs": [
    {
     "data": {
      "text/plain": [
       "array([50, 55, 60, 65, 70])"
      ]
     },
     "execution_count": 91,
     "metadata": {},
     "output_type": "execute_result"
    }
   ],
   "source": [
    "arr_2dd.sum(axis=0)"
   ]
  },
  {
   "cell_type": "code",
   "execution_count": 92,
   "id": "41c7d21c-7cd5-44aa-b928-bf1491181e02",
   "metadata": {},
   "outputs": [],
   "source": [
    "#sum will be pweformed across row"
   ]
  },
  {
   "cell_type": "code",
   "execution_count": null,
   "id": "c1643ce5-2291-4f29-ae93-727243a55594",
   "metadata": {},
   "outputs": [],
   "source": [
    "arr_2dd.sum(axis=1)"
   ]
  },
  {
   "cell_type": "code",
   "execution_count": 94,
   "id": "9129f868-5728-4a57-98b7-114b6512e0a0",
   "metadata": {},
   "outputs": [
    {
     "data": {
      "text/plain": [
       "2720"
      ]
     },
     "execution_count": 94,
     "metadata": {},
     "output_type": "execute_result"
    }
   ],
   "source": [
    "import numpy as np\n",
    "account_transactions = np.array([100,-200,300,-400,100,100,-230,450,500,2000])\n",
    "account_transactions.sum()\n",
    "\n",
    " "
   ]
  },
  {
   "cell_type": "code",
   "execution_count": null,
   "id": "ae397c95-98f0-43ad-b61a-c2b66253cc8b",
   "metadata": {},
   "outputs": [],
   "source": []
  }
 ],
 "metadata": {
  "kernelspec": {
   "display_name": "anaconda-panel-2023.05-py310",
   "language": "python",
   "name": "conda-env-anaconda-panel-2023.05-py310-py"
  },
  "language_info": {
   "codemirror_mode": {
    "name": "ipython",
    "version": 3
   },
   "file_extension": ".py",
   "mimetype": "text/x-python",
   "name": "python",
   "nbconvert_exporter": "python",
   "pygments_lexer": "ipython3",
   "version": "3.11.5"
  }
 },
 "nbformat": 4,
 "nbformat_minor": 5
}
